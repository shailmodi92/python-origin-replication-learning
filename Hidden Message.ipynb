{
 "cells": [
  {
   "cell_type": "code",
   "execution_count": 11,
   "id": "66c12e42",
   "metadata": {},
   "outputs": [
    {
     "name": "stdout",
     "output_type": "stream",
     "text": [
      "3\n"
     ]
    }
   ],
   "source": [
    "pattern = \"ACTAT\"\n",
    "Text = \"ACAACTATGCATACTATCGGGAACTATCCT\"\n",
    "def PatternCount(Text, Pattern):\n",
    "    count = 0\n",
    "    for i in range(len(Text)-len(Pattern)+1):\n",
    "        if Text[i:i+len(Pattern)] == Pattern:\n",
    "            count = count+1\n",
    "    return count \n",
    "print (PatternCount(Text, pattern))\n"
   ]
  },
  {
   "cell_type": "markdown",
   "id": "a385cc84",
   "metadata": {},
   "source": [
    "The code above helps to find a pattern within a text repeated in a nucleotide sequence. Finding a pattern is important as it tells a message. One of the multiple patterns could be one of the sites where origin of replication is initiated. "
   ]
  },
  {
   "cell_type": "markdown",
   "id": "9a3d8e09",
   "metadata": {},
   "source": [
    "The below code helps us to find number of times a particular pattern in a text or a nucleotide sequence is occuring. Additionally, in a given text, if we wanted to find out a 3 letter or a 4 letter sequence, it tells us all the 3 or 4 letter patterns in a particular sequence. "
   ]
  },
  {
   "cell_type": "code",
   "execution_count": 16,
   "id": "79d8953b",
   "metadata": {},
   "outputs": [
    {
     "name": "stdout",
     "output_type": "stream",
     "text": [
      "{'ACA': 1, 'CAA': 1, 'AAC': 2, 'ACT': 3, 'CTA': 3, 'TAT': 3, 'ATG': 1, 'TGC': 1, 'GCA': 1, 'CAT': 1, 'ATA': 1, 'TAC': 1, 'ATC': 2, 'TCG': 1, 'CGG': 1, 'GGG': 1, 'GGA': 1, 'GAA': 1, 'TCC': 1, 'CCT': 1}\n",
      "['ACT', 'CTA', 'TAT']\n"
     ]
    }
   ],
   "source": [
    "Pattern = \"ATA\"\n",
    "Text = \"ACAACTATGCATACTATCGGGAACTATCCT\"\n",
    "def FrequencyMap(Text, k):\n",
    "    freq = {}       #start with a blank dictionary named “freq”\n",
    "    n = len(Text)  #n is set to the length of the text genome\n",
    "\n",
    "    for i in range(n-k+1):  #for a certain index in the range of 0 to (14-3+1 = 12)\n",
    "        Pattern = Text[i:i+k] #defining a variable, e.g., index 0 up to but not including index (0+3=3) so first Pattern = CGA\n",
    "        freq[Pattern] = 0  #adding a new key to the dictionary “freq”, and setting its value to zero\n",
    "\n",
    "\n",
    "    for i in range(n-k+1):  #for a certain index in the range of 0 to (14-3+1 = 12)\n",
    "        Pattern=Text[i:i+k] #defining a variable, e.g., index 0 up to but not including index (0+3=3) so first Pattern = CGA\n",
    "        freq[Pattern]+= 1 #e.g., in the dictionary “freq,” for key CGA, increase the value of CGA by one\n",
    "\n",
    "    return freq \n",
    "def FrequencyMap(Text, k):\n",
    "    freq = {}\n",
    "    n = len(Text)\n",
    "    for i in range(n - k + 1):\n",
    "        kmer = Text[i:i + k]\n",
    "        if kmer in freq:\n",
    "            freq[kmer] += 1\n",
    "        else:\n",
    "            freq[kmer] = 1\n",
    "    return freq\n",
    "print (FrequencyMap(Text, 3))\n",
    "\n",
    "def FrequentWords(Text, k):\n",
    "    words = []\n",
    "    freq = FrequencyMap(Text, k)\n",
    "    m = max(freq.values())\n",
    "    for key in freq:\n",
    "        if freq[key] == m:\n",
    "            words.append(key)\n",
    "    return words\n",
    "print (FrequentWords(Text, 3))\n"
   ]
  },
  {
   "cell_type": "markdown",
   "id": "c43dc2c4",
   "metadata": {},
   "source": [
    "The DNA strands are complementary to each other. One runs in 5' - 3' direction while the other from 3' to 5'. For sequence, AAAACCCGGT the reverse complement would be TGGCCCAAA\n"
   ]
  },
  {
   "cell_type": "code",
   "execution_count": 17,
   "id": "605b9ce0",
   "metadata": {},
   "outputs": [
    {
     "name": "stdout",
     "output_type": "stream",
     "text": [
      "AAGTATATGCATATATCATAT\n"
     ]
    }
   ],
   "source": [
    "pattern = \"ATATGATATATGCATATACTT\"\n",
    "def ReverseComplement(Pattern):\n",
    "    Pattern = Reverse(Pattern)\n",
    "    Pattern = Complement(Pattern)\n",
    "    return Pattern\n",
    "def Reverse(Pattern):\n",
    "    rev = \"\"\n",
    "    for char in Pattern:\n",
    "        rev = char + rev\n",
    "    return rev\n",
    "def Complement(Pattern):\n",
    "    comp = \"\"\n",
    "    for char in Pattern:\n",
    "        if char == \"A\":\n",
    "            char = char.replace(\"A\",\"T\")\n",
    "        elif char == \"C\":\n",
    "            char = char.replace(\"C\",\"G\")\n",
    "        elif char == \"G\":\n",
    "            char = char.replace(\"G\",\"C\")\n",
    "        elif char == \"T\":\n",
    "            char = char.replace(\"T\",\"A\")\n",
    "        comp = comp + char\n",
    "    return comp\n",
    "print (ReverseComplement(pattern))"
   ]
  },
  {
   "cell_type": "markdown",
   "id": "c8c87557",
   "metadata": {},
   "source": [
    "Pattern Matching helps to idenify the position of the pattern starting in a text. Python always count the first word as 0. In a sequence, AATCCC, position of A is 0, A - 1, T-2, C-3, C-4, C-5. "
   ]
  },
  {
   "cell_type": "code",
   "execution_count": 18,
   "id": "9ea5b4a8",
   "metadata": {},
   "outputs": [
    {
     "name": "stdout",
     "output_type": "stream",
     "text": [
      "[88, 92, 98, 132]\n"
     ]
    }
   ],
   "source": [
    "Genome =\"AGCGTGCCGAAATATGCCGCCAGACCTGCTGCGGTGGCCTCGCCGACTTCACGGATGCCAAGTGCATAGAGGAAGCGAGCAAAGGTGGTTTCTTTCGCTTTATCCAGCGCGTTAACCACGTTCTGTGCCGACTTT\"\n",
    "Pattern = \"TTT\"\n",
    "def PatternMatching(Pattern, Genome):\n",
    "\n",
    "    positions = [] #create a list called positions   \n",
    "\n",
    "    Pattern_length = len(Pattern)  #create a variable that is the length of the pattern. E.G., “2”\n",
    "    Genome_length = len(Genome) #create a variable that is the length of the genome  E.G., “10”\n",
    "\n",
    "    for i in range(Genome_length - Pattern_length + 1): #setting up range to search for pattern\n",
    "        if Genome[i:i + Pattern_length] == Pattern:  #E.G., if the positions of 0 up to but not including (0 + 2) = the pattern we're looking for,\n",
    "            positions.append(i)   #then add the position \"0\" to the list we created called positions\n",
    "\n",
    "    return positions     #return the positions list that show all the starting positions of the pattern in the genome\n",
    "print (PatternMatching(Pattern, Genome))\n"
   ]
  },
  {
   "cell_type": "markdown",
   "id": "43189a95",
   "metadata": {},
   "source": [
    "Due to deamination,C mutates to T frequently, so the reverse half strand have high C and low G while the forward half-strand have high G and low C. When G-C is decreasing and starts to increase, there is the origin of replication. The frequent k-mers that we find have similar patterns except for one nucleotide which is changed due to mutation. The skew array helps to find the point where G-C is decreasing and starts to increase. In a sequence where G occurs add 1 and where C ocurs add -1, for A and T add 0. "
   ]
  },
  {
   "cell_type": "code",
   "execution_count": null,
   "id": "0661075b",
   "metadata": {},
   "outputs": [],
   "source": [
    "def FasterSymbolArray(Genome, symbol):\n",
    "    array = {}\n",
    "    n = len(Genome)\n",
    "    ExtendedGenome = Genome + Genome[0:n//2]\n",
    "\n",
    "    # look at the first half of Genome to compute first array value\n",
    "    array[0] = PatternCount(symbol, Genome[0:n//2])\n",
    "\n",
    "    for i in range(1, n):\n",
    "        # start by setting the current array value equal to the previous array value\n",
    "        array[i] = array[i-1]\n",
    "\n",
    "        # the current array value can differ from the previous array value by at most 1\n",
    "        if ExtendedGenome[i-1] == symbol:\n",
    "            array[i] = array[i]-1\n",
    "        if ExtendedGenome[i+(n//2)-1] == symbol:\n",
    "            array[i] = array[i]+1\n",
    "    return array"
   ]
  },
  {
   "cell_type": "code",
   "execution_count": null,
   "id": "2f54585a",
   "metadata": {},
   "outputs": [],
   "source": [
    "# Input:  A DNA string Genome\n",
    "# Output: A list containing all integers i minimizing Skew(Prefix_i(Text)) over all values of i (from 0 to |Genome|)\n",
    "def MinimumSkew(Genome):\n",
    "    positions = [] # output variable\n",
    "    # your code here\n",
    "    skew_raw = SkewArray(Genome)\n",
    "    values_min = min(skew_raw.values())\n",
    "    for key, value in skew_raw.items():\n",
    "        if value == values_min:\n",
    "            positions.append(key)\n",
    "                \n",
    "    return positions\n",
    "\n",
    "# Input:  A String Genome\n",
    "# Output: SkewArray(Genome)\n",
    "# HINT:   This code should be taken from the last Code Challenge.\n",
    "def SkewArray(Genome):\n",
    "    skew = {} # output variable\n",
    "    # your code here\n",
    "    current_skew = 0\n",
    "    for index, nucleotide in enumerate(Genome):\n",
    "        if nucleotide == \"G\":\n",
    "                current_skew += 1\n",
    "        elif nucleotide == \"C\":\n",
    "                current_skew -= 1\n",
    "        \n",
    "        skew[index+1] = current_skew\n",
    "    return skew"
   ]
  },
  {
   "cell_type": "markdown",
   "id": "62358148",
   "metadata": {},
   "source": [
    "All the above excercises help us to find the hidden message in a sequence of nucleotides which can help us find the Origin of replication, where the DNAa boxes bind and initiate the replication of DNA. Each organism have a different nucleotide seq and therefore the patterns differ as well as the initiation box where the DNAa binds. For E.Coli, using the above methods, we were able to find the DNAa box along with its reverse complement. TTATCCACA and TGTGGATAA. \n",
    "\n",
    "How about a particular motif or a pattern that has similar pattern with changes in single nucleotide. "
   ]
  }
 ],
 "metadata": {
  "kernelspec": {
   "display_name": "Python 3",
   "language": "python",
   "name": "python3"
  },
  "language_info": {
   "codemirror_mode": {
    "name": "ipython",
    "version": 3
   },
   "file_extension": ".py",
   "mimetype": "text/x-python",
   "name": "python",
   "nbconvert_exporter": "python",
   "pygments_lexer": "ipython3",
   "version": "3.11.9"
  }
 },
 "nbformat": 4,
 "nbformat_minor": 5
}
