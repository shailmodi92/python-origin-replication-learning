{
 "cells": [
  {
   "cell_type": "code",
   "execution_count": null,
   "id": "66c12e42",
   "metadata": {},
   "outputs": [],
   "source": [
    "def PatternCount(Text, Pattern):\n",
    "    count = 0\n",
    "    for i in range(len(Text)-len(Pattern)+1):\n",
    "        if Text[i:i+len(Pattern)] == Pattern:\n",
    "            count = count+1\n",
    "    return count "
   ]
  },
  {
   "cell_type": "code",
   "execution_count": null,
   "id": "79d8953b",
   "metadata": {},
   "outputs": [],
   "source": [
    "def FrequencyMap(Text, k):\n",
    "    freq = {}       #start with a blank dictionary named “freq”\n",
    "    n = len(Text)  #n is set to the length of the text genome\n",
    "\n",
    "    for i in range(n-k+1):  #for a certain index in the range of 0 to (14-3+1 = 12)\n",
    "        Pattern = Text[i:i+k] #defining a variable, e.g., index 0 up to but not including index (0+3=3) so first Pattern = CGA\n",
    "        freq[Pattern] = 0  #adding a new key to the dictionary “freq”, and setting its value to zero\n",
    "\n",
    "\n",
    "    for i in range(n-k+1):  #for a certain index in the range of 0 to (14-3+1 = 12)\n",
    "        Pattern=Text[i:i+k] #defining a variable, e.g., index 0 up to but not including index (0+3=3) so first Pattern = CGA\n",
    "        freq[Pattern]+= 1 #e.g., in the dictionary “freq,” for key CGA, increase the value of CGA by one\n",
    "\n",
    "    return freq "
   ]
  },
  {
   "cell_type": "code",
   "execution_count": null,
   "id": "b6934b94",
   "metadata": {},
   "outputs": [],
   "source": [
    "def FrequencyMap(Text, k):\n",
    "    freq = {}\n",
    "    n = len(Text)\n",
    "    for i in range(n - k + 1):\n",
    "        kmer = Text[i:i + k]\n",
    "        if kmer in freq:\n",
    "            freq[kmer] += 1\n",
    "        else:\n",
    "            freq[kmer] = 1\n",
    "    return freq\n",
    "\n",
    "def FrequentWords(Text, k):\n",
    "    words = []\n",
    "    freq = FrequencyMap(Text, k)\n",
    "    m = max(freq.values())\n",
    "    for key in freq:\n",
    "        if freq[key] == m:\n",
    "            words.append(key)\n",
    "    return words"
   ]
  },
  {
   "cell_type": "code",
   "execution_count": null,
   "id": "b655a43e",
   "metadata": {},
   "outputs": [],
   "source": []
  }
 ],
 "metadata": {
  "kernelspec": {
   "display_name": "Python 3",
   "language": "python",
   "name": "python3"
  },
  "language_info": {
   "codemirror_mode": {
    "name": "ipython",
    "version": 3
   },
   "file_extension": ".py",
   "mimetype": "text/x-python",
   "name": "python",
   "nbconvert_exporter": "python",
   "pygments_lexer": "ipython3",
   "version": "3.11.9"
  }
 },
 "nbformat": 4,
 "nbformat_minor": 5
}
